{
 "cells": [
  {
   "cell_type": "code",
   "execution_count": 1,
   "id": "8086f120-26b9-4431-98ae-67844a3c6496",
   "metadata": {},
   "outputs": [],
   "source": [
    "import pandas as pd\n",
    "import numpy as np\n",
    "import string\n",
    "import re\n",
    "import nltk\n",
    "from nltk.corpus import stopwords\n",
    "from nltk.stem import LancasterStemmer\n",
    "\n",
    "import warnings\n",
    "warnings.filterwarnings('ignore') "
   ]
  },
  {
   "cell_type": "code",
   "execution_count": 2,
   "id": "ac7cc823-1a5a-44fb-81d5-a18a470a94c6",
   "metadata": {},
   "outputs": [],
   "source": [
    "from sklearn.preprocessing import OneHotEncoder, LabelEncoder\n",
    "from sklearn.feature_extraction.text import TfidfVectorizer#TfidVectorizer\n",
    "from sklearn.model_selection import RandomizedSearchCV\n",
    "\n",
    "from sklearn import metrics\n",
    "from sklearn.tree import plot_tree\n",
    "from sklearn.linear_model import LogisticRegression\n",
    "from sklearn import naive_bayes\n",
    "from sklearn.tree import DecisionTreeClassifier\n",
    "from sklearn.ensemble import RandomForestClassifier\n",
    "\n",
    "from xgboost import XGBClassifier \n",
    "from xgboost import plot_importance\n",
    "\n",
    "import time"
   ]
  },
  {
   "cell_type": "code",
   "execution_count": 3,
   "id": "236eb29e-8e67-4f25-b359-9fa29cfb745f",
   "metadata": {},
   "outputs": [],
   "source": [
    "import matplotlib.pyplot as plt\n",
    "import seaborn as sns"
   ]
  },
  {
   "cell_type": "code",
   "execution_count": 4,
   "id": "29965324-e523-4f50-b9bf-fe6b85dde2ea",
   "metadata": {},
   "outputs": [
    {
     "data": {
      "text/html": [
       "<div>\n",
       "<style scoped>\n",
       "    .dataframe tbody tr th:only-of-type {\n",
       "        vertical-align: middle;\n",
       "    }\n",
       "\n",
       "    .dataframe tbody tr th {\n",
       "        vertical-align: top;\n",
       "    }\n",
       "\n",
       "    .dataframe thead th {\n",
       "        text-align: right;\n",
       "    }\n",
       "</style>\n",
       "<table border=\"1\" class=\"dataframe\">\n",
       "  <thead>\n",
       "    <tr style=\"text-align: right;\">\n",
       "      <th></th>\n",
       "      <th>textID</th>\n",
       "      <th>text</th>\n",
       "      <th>selected_text</th>\n",
       "      <th>sentiment</th>\n",
       "      <th>Time of Tweet</th>\n",
       "      <th>Age of User</th>\n",
       "      <th>Country</th>\n",
       "      <th>Population -2020</th>\n",
       "      <th>Land Area (Km²)</th>\n",
       "      <th>Density (P/Km²)</th>\n",
       "    </tr>\n",
       "  </thead>\n",
       "  <tbody>\n",
       "    <tr>\n",
       "      <th>0</th>\n",
       "      <td>cb774db0d1</td>\n",
       "      <td>I`d have responded, if I were going</td>\n",
       "      <td>I`d have responded, if I were going</td>\n",
       "      <td>neutral</td>\n",
       "      <td>morning</td>\n",
       "      <td>0-20</td>\n",
       "      <td>Afghanistan</td>\n",
       "      <td>38928346</td>\n",
       "      <td>652860.0</td>\n",
       "      <td>60</td>\n",
       "    </tr>\n",
       "    <tr>\n",
       "      <th>1</th>\n",
       "      <td>549e992a42</td>\n",
       "      <td>Sooo SAD I will miss you here in San Diego!!!</td>\n",
       "      <td>Sooo SAD</td>\n",
       "      <td>negative</td>\n",
       "      <td>noon</td>\n",
       "      <td>21-30</td>\n",
       "      <td>Albania</td>\n",
       "      <td>2877797</td>\n",
       "      <td>27400.0</td>\n",
       "      <td>105</td>\n",
       "    </tr>\n",
       "    <tr>\n",
       "      <th>2</th>\n",
       "      <td>088c60f138</td>\n",
       "      <td>my boss is bullying me...</td>\n",
       "      <td>bullying me</td>\n",
       "      <td>negative</td>\n",
       "      <td>night</td>\n",
       "      <td>31-45</td>\n",
       "      <td>Algeria</td>\n",
       "      <td>43851044</td>\n",
       "      <td>2381740.0</td>\n",
       "      <td>18</td>\n",
       "    </tr>\n",
       "    <tr>\n",
       "      <th>3</th>\n",
       "      <td>9642c003ef</td>\n",
       "      <td>what interview! leave me alone</td>\n",
       "      <td>leave me alone</td>\n",
       "      <td>negative</td>\n",
       "      <td>morning</td>\n",
       "      <td>46-60</td>\n",
       "      <td>Andorra</td>\n",
       "      <td>77265</td>\n",
       "      <td>470.0</td>\n",
       "      <td>164</td>\n",
       "    </tr>\n",
       "    <tr>\n",
       "      <th>4</th>\n",
       "      <td>358bd9e861</td>\n",
       "      <td>Sons of ****, why couldn`t they put them on t...</td>\n",
       "      <td>Sons of ****,</td>\n",
       "      <td>negative</td>\n",
       "      <td>noon</td>\n",
       "      <td>60-70</td>\n",
       "      <td>Angola</td>\n",
       "      <td>32866272</td>\n",
       "      <td>1246700.0</td>\n",
       "      <td>26</td>\n",
       "    </tr>\n",
       "  </tbody>\n",
       "</table>\n",
       "</div>"
      ],
      "text/plain": [
       "       textID                                               text  \\\n",
       "0  cb774db0d1                I`d have responded, if I were going   \n",
       "1  549e992a42      Sooo SAD I will miss you here in San Diego!!!   \n",
       "2  088c60f138                          my boss is bullying me...   \n",
       "3  9642c003ef                     what interview! leave me alone   \n",
       "4  358bd9e861   Sons of ****, why couldn`t they put them on t...   \n",
       "\n",
       "                         selected_text sentiment Time of Tweet Age of User  \\\n",
       "0  I`d have responded, if I were going   neutral       morning        0-20   \n",
       "1                             Sooo SAD  negative          noon       21-30   \n",
       "2                          bullying me  negative         night       31-45   \n",
       "3                       leave me alone  negative       morning       46-60   \n",
       "4                        Sons of ****,  negative          noon       60-70   \n",
       "\n",
       "       Country  Population -2020  Land Area (Km²)  Density (P/Km²)  \n",
       "0  Afghanistan          38928346         652860.0               60  \n",
       "1      Albania           2877797          27400.0              105  \n",
       "2      Algeria          43851044        2381740.0               18  \n",
       "3      Andorra             77265            470.0              164  \n",
       "4       Angola          32866272        1246700.0               26  "
      ]
     },
     "execution_count": 4,
     "metadata": {},
     "output_type": "execute_result"
    }
   ],
   "source": [
    "df_train = pd.read_csv(r\"C:\\Users\\ramni\\Downloads\\archive(10)\\train.csv\",encoding='latin1')\n",
    "df_train.head()"
   ]
  },
  {
   "cell_type": "code",
   "execution_count": 5,
   "id": "555b51c5-736c-418c-b3f7-b3ffedc6f6c2",
   "metadata": {},
   "outputs": [
    {
     "data": {
      "text/html": [
       "<div>\n",
       "<style scoped>\n",
       "    .dataframe tbody tr th:only-of-type {\n",
       "        vertical-align: middle;\n",
       "    }\n",
       "\n",
       "    .dataframe tbody tr th {\n",
       "        vertical-align: top;\n",
       "    }\n",
       "\n",
       "    .dataframe thead th {\n",
       "        text-align: right;\n",
       "    }\n",
       "</style>\n",
       "<table border=\"1\" class=\"dataframe\">\n",
       "  <thead>\n",
       "    <tr style=\"text-align: right;\">\n",
       "      <th></th>\n",
       "      <th>textID</th>\n",
       "      <th>text</th>\n",
       "      <th>sentiment</th>\n",
       "      <th>Time of Tweet</th>\n",
       "      <th>Age of User</th>\n",
       "      <th>Country</th>\n",
       "      <th>Population -2020</th>\n",
       "      <th>Land Area (Km²)</th>\n",
       "      <th>Density (P/Km²)</th>\n",
       "    </tr>\n",
       "  </thead>\n",
       "  <tbody>\n",
       "    <tr>\n",
       "      <th>0</th>\n",
       "      <td>f87dea47db</td>\n",
       "      <td>Last session of the day  http://twitpic.com/67ezh</td>\n",
       "      <td>neutral</td>\n",
       "      <td>morning</td>\n",
       "      <td>0-20</td>\n",
       "      <td>Afghanistan</td>\n",
       "      <td>38928346</td>\n",
       "      <td>652860.0</td>\n",
       "      <td>60</td>\n",
       "    </tr>\n",
       "    <tr>\n",
       "      <th>1</th>\n",
       "      <td>96d74cb729</td>\n",
       "      <td>Shanghai is also really exciting (precisely -...</td>\n",
       "      <td>positive</td>\n",
       "      <td>noon</td>\n",
       "      <td>21-30</td>\n",
       "      <td>Albania</td>\n",
       "      <td>2877797</td>\n",
       "      <td>27400.0</td>\n",
       "      <td>105</td>\n",
       "    </tr>\n",
       "    <tr>\n",
       "      <th>2</th>\n",
       "      <td>eee518ae67</td>\n",
       "      <td>Recession hit Veronique Branquinho, she has to...</td>\n",
       "      <td>negative</td>\n",
       "      <td>night</td>\n",
       "      <td>31-45</td>\n",
       "      <td>Algeria</td>\n",
       "      <td>43851044</td>\n",
       "      <td>2381740.0</td>\n",
       "      <td>18</td>\n",
       "    </tr>\n",
       "    <tr>\n",
       "      <th>3</th>\n",
       "      <td>01082688c6</td>\n",
       "      <td>happy bday!</td>\n",
       "      <td>positive</td>\n",
       "      <td>morning</td>\n",
       "      <td>46-60</td>\n",
       "      <td>Andorra</td>\n",
       "      <td>77265</td>\n",
       "      <td>470.0</td>\n",
       "      <td>164</td>\n",
       "    </tr>\n",
       "    <tr>\n",
       "      <th>4</th>\n",
       "      <td>33987a8ee5</td>\n",
       "      <td>http://twitpic.com/4w75p - I like it!!</td>\n",
       "      <td>positive</td>\n",
       "      <td>noon</td>\n",
       "      <td>60-70</td>\n",
       "      <td>Angola</td>\n",
       "      <td>32866272</td>\n",
       "      <td>1246700.0</td>\n",
       "      <td>26</td>\n",
       "    </tr>\n",
       "  </tbody>\n",
       "</table>\n",
       "</div>"
      ],
      "text/plain": [
       "       textID                                               text sentiment  \\\n",
       "0  f87dea47db  Last session of the day  http://twitpic.com/67ezh   neutral   \n",
       "1  96d74cb729   Shanghai is also really exciting (precisely -...  positive   \n",
       "2  eee518ae67  Recession hit Veronique Branquinho, she has to...  negative   \n",
       "3  01082688c6                                        happy bday!  positive   \n",
       "4  33987a8ee5             http://twitpic.com/4w75p - I like it!!  positive   \n",
       "\n",
       "  Time of Tweet Age of User      Country  Population -2020  Land Area (Km²)  \\\n",
       "0       morning        0-20  Afghanistan          38928346         652860.0   \n",
       "1          noon       21-30      Albania           2877797          27400.0   \n",
       "2         night       31-45      Algeria          43851044        2381740.0   \n",
       "3       morning       46-60      Andorra             77265            470.0   \n",
       "4          noon       60-70       Angola          32866272        1246700.0   \n",
       "\n",
       "   Density (P/Km²)  \n",
       "0               60  \n",
       "1              105  \n",
       "2               18  \n",
       "3              164  \n",
       "4               26  "
      ]
     },
     "execution_count": 5,
     "metadata": {},
     "output_type": "execute_result"
    }
   ],
   "source": [
    "df_test  = pd.read_csv(r\"C:\\Users\\ramni\\Downloads\\archive(10)\\test.csv\",encoding='latin1' )\n",
    "df_test.head()"
   ]
  },
  {
   "cell_type": "code",
   "execution_count": 6,
   "id": "d5b53731-4690-4097-a9c1-267b3d15fa26",
   "metadata": {},
   "outputs": [
    {
     "name": "stdout",
     "output_type": "stream",
     "text": [
      "<class 'pandas.core.frame.DataFrame'>\n",
      "RangeIndex: 27481 entries, 0 to 27480\n",
      "Data columns (total 10 columns):\n",
      " #   Column            Non-Null Count  Dtype  \n",
      "---  ------            --------------  -----  \n",
      " 0   textID            27481 non-null  object \n",
      " 1   text              27480 non-null  object \n",
      " 2   selected_text     27480 non-null  object \n",
      " 3   sentiment         27481 non-null  object \n",
      " 4   Time of Tweet     27481 non-null  object \n",
      " 5   Age of User       27481 non-null  object \n",
      " 6   Country           27481 non-null  object \n",
      " 7   Population -2020  27481 non-null  int64  \n",
      " 8   Land Area (Km²)   27481 non-null  float64\n",
      " 9   Density (P/Km²)   27481 non-null  int64  \n",
      "dtypes: float64(1), int64(2), object(7)\n",
      "memory usage: 2.1+ MB\n"
     ]
    }
   ],
   "source": [
    "df_train.info()"
   ]
  },
  {
   "cell_type": "code",
   "execution_count": 7,
   "id": "dfaf0814-8773-4143-9ab3-c3f30ab6c8cf",
   "metadata": {},
   "outputs": [
    {
     "name": "stdout",
     "output_type": "stream",
     "text": [
      "<class 'pandas.core.frame.DataFrame'>\n",
      "RangeIndex: 3534 entries, 0 to 3533\n",
      "Data columns (total 9 columns):\n",
      " #   Column            Non-Null Count  Dtype  \n",
      "---  ------            --------------  -----  \n",
      " 0   textID            3534 non-null   object \n",
      " 1   text              3534 non-null   object \n",
      " 2   sentiment         3534 non-null   object \n",
      " 3   Time of Tweet     3534 non-null   object \n",
      " 4   Age of User       3534 non-null   object \n",
      " 5   Country           3534 non-null   object \n",
      " 6   Population -2020  3534 non-null   int64  \n",
      " 7   Land Area (Km²)   3534 non-null   float64\n",
      " 8   Density (P/Km²)   3534 non-null   int64  \n",
      "dtypes: float64(1), int64(2), object(6)\n",
      "memory usage: 248.6+ KB\n"
     ]
    }
   ],
   "source": [
    "df_test.info()"
   ]
  },
  {
   "cell_type": "markdown",
   "id": "3d42198b-e1b1-47a6-9fa7-09562c9ed116",
   "metadata": {},
   "source": [
    "By comparing train and test data sets It can be concluded that \"selected_text\" colum is missing in test data set therefore text colum will be used for following analysis"
   ]
  },
  {
   "cell_type": "code",
   "execution_count": 8,
   "id": "596413b2-5c39-44ae-9368-3f007f787b42",
   "metadata": {},
   "outputs": [
    {
     "data": {
      "text/plain": [
       "textID              0\n",
       "text                1\n",
       "selected_text       1\n",
       "sentiment           0\n",
       "Time of Tweet       0\n",
       "Age of User         0\n",
       "Country             0\n",
       "Population -2020    0\n",
       "Land Area (Km²)     0\n",
       "Density (P/Km²)     0\n",
       "dtype: int64"
      ]
     },
     "execution_count": 8,
     "metadata": {},
     "output_type": "execute_result"
    }
   ],
   "source": [
    "df_train.isnull().sum()"
   ]
  },
  {
   "cell_type": "code",
   "execution_count": 9,
   "id": "33423d09-ad16-4b0a-b4b7-08f1782ccdf5",
   "metadata": {},
   "outputs": [
    {
     "data": {
      "text/plain": [
       "textID              0\n",
       "text                0\n",
       "sentiment           0\n",
       "Time of Tweet       0\n",
       "Age of User         0\n",
       "Country             0\n",
       "Population -2020    0\n",
       "Land Area (Km²)     0\n",
       "Density (P/Km²)     0\n",
       "dtype: int64"
      ]
     },
     "execution_count": 9,
     "metadata": {},
     "output_type": "execute_result"
    }
   ],
   "source": [
    "df_test.isnull().sum()"
   ]
  },
  {
   "cell_type": "code",
   "execution_count": 10,
   "id": "133fcf41-7d5e-4928-bfe9-31b22f0910c1",
   "metadata": {},
   "outputs": [],
   "source": [
    "df_train = df_train.dropna()\n",
    "df_test = df_test.dropna()"
   ]
  },
  {
   "cell_type": "code",
   "execution_count": 11,
   "id": "eb78436e-15f1-41ea-8c77-b8de8130bac4",
   "metadata": {},
   "outputs": [
    {
     "data": {
      "text/plain": [
       "0"
      ]
     },
     "execution_count": 11,
     "metadata": {},
     "output_type": "execute_result"
    }
   ],
   "source": [
    "df_train.duplicated().sum()"
   ]
  },
  {
   "cell_type": "code",
   "execution_count": 12,
   "id": "cab9661e-51ac-42d2-abff-23a7749e1574",
   "metadata": {},
   "outputs": [
    {
     "data": {
      "text/plain": [
       "0"
      ]
     },
     "execution_count": 12,
     "metadata": {},
     "output_type": "execute_result"
    }
   ],
   "source": [
    "df_test.duplicated().sum()"
   ]
  },
  {
   "cell_type": "code",
   "execution_count": 13,
   "id": "5178e265-ee16-4927-a101-ff21ddee7131",
   "metadata": {},
   "outputs": [],
   "source": [
    "df_train.columns = df_train.columns.str.lower()\n",
    "df_train = df_train.rename(columns={'textid':'text_id','time of tweet':'Time','age of user':'Age','population -2020':'Population',\n",
    "                                    'land area (km²)':'Area','density (p/km²)':'Density'})\n",
    "df_test.columns = df_test.columns.str.lower()\n",
    "df_test = df_test.rename(columns={'textid':'text_id','time of tweet':'Time','age of user':'Age','population -2020':'Population',\n",
    "                                  'land area (km²)':'Area','density (p/km²)':'Density'})"
   ]
  },
  {
   "cell_type": "code",
   "execution_count": 14,
   "id": "471a5681-53e3-4716-aa50-4e6c81ef7eb6",
   "metadata": {},
   "outputs": [
    {
     "data": {
      "text/html": [
       "<div>\n",
       "<style scoped>\n",
       "    .dataframe tbody tr th:only-of-type {\n",
       "        vertical-align: middle;\n",
       "    }\n",
       "\n",
       "    .dataframe tbody tr th {\n",
       "        vertical-align: top;\n",
       "    }\n",
       "\n",
       "    .dataframe thead th {\n",
       "        text-align: right;\n",
       "    }\n",
       "</style>\n",
       "<table border=\"1\" class=\"dataframe\">\n",
       "  <thead>\n",
       "    <tr style=\"text-align: right;\">\n",
       "      <th></th>\n",
       "      <th>text_id</th>\n",
       "      <th>text</th>\n",
       "      <th>selected_text</th>\n",
       "      <th>sentiment</th>\n",
       "      <th>Time</th>\n",
       "      <th>Age</th>\n",
       "      <th>country</th>\n",
       "      <th>Population</th>\n",
       "      <th>Area</th>\n",
       "      <th>Density</th>\n",
       "    </tr>\n",
       "  </thead>\n",
       "  <tbody>\n",
       "    <tr>\n",
       "      <th>0</th>\n",
       "      <td>cb774db0d1</td>\n",
       "      <td>I`d have responded, if I were going</td>\n",
       "      <td>I`d have responded, if I were going</td>\n",
       "      <td>neutral</td>\n",
       "      <td>morning</td>\n",
       "      <td>0-20</td>\n",
       "      <td>Afghanistan</td>\n",
       "      <td>38928346</td>\n",
       "      <td>652860.0</td>\n",
       "      <td>60</td>\n",
       "    </tr>\n",
       "    <tr>\n",
       "      <th>1</th>\n",
       "      <td>549e992a42</td>\n",
       "      <td>Sooo SAD I will miss you here in San Diego!!!</td>\n",
       "      <td>Sooo SAD</td>\n",
       "      <td>negative</td>\n",
       "      <td>noon</td>\n",
       "      <td>21-30</td>\n",
       "      <td>Albania</td>\n",
       "      <td>2877797</td>\n",
       "      <td>27400.0</td>\n",
       "      <td>105</td>\n",
       "    </tr>\n",
       "    <tr>\n",
       "      <th>2</th>\n",
       "      <td>088c60f138</td>\n",
       "      <td>my boss is bullying me...</td>\n",
       "      <td>bullying me</td>\n",
       "      <td>negative</td>\n",
       "      <td>night</td>\n",
       "      <td>31-45</td>\n",
       "      <td>Algeria</td>\n",
       "      <td>43851044</td>\n",
       "      <td>2381740.0</td>\n",
       "      <td>18</td>\n",
       "    </tr>\n",
       "    <tr>\n",
       "      <th>3</th>\n",
       "      <td>9642c003ef</td>\n",
       "      <td>what interview! leave me alone</td>\n",
       "      <td>leave me alone</td>\n",
       "      <td>negative</td>\n",
       "      <td>morning</td>\n",
       "      <td>46-60</td>\n",
       "      <td>Andorra</td>\n",
       "      <td>77265</td>\n",
       "      <td>470.0</td>\n",
       "      <td>164</td>\n",
       "    </tr>\n",
       "    <tr>\n",
       "      <th>4</th>\n",
       "      <td>358bd9e861</td>\n",
       "      <td>Sons of ****, why couldn`t they put them on t...</td>\n",
       "      <td>Sons of ****,</td>\n",
       "      <td>negative</td>\n",
       "      <td>noon</td>\n",
       "      <td>60-70</td>\n",
       "      <td>Angola</td>\n",
       "      <td>32866272</td>\n",
       "      <td>1246700.0</td>\n",
       "      <td>26</td>\n",
       "    </tr>\n",
       "  </tbody>\n",
       "</table>\n",
       "</div>"
      ],
      "text/plain": [
       "      text_id                                               text  \\\n",
       "0  cb774db0d1                I`d have responded, if I were going   \n",
       "1  549e992a42      Sooo SAD I will miss you here in San Diego!!!   \n",
       "2  088c60f138                          my boss is bullying me...   \n",
       "3  9642c003ef                     what interview! leave me alone   \n",
       "4  358bd9e861   Sons of ****, why couldn`t they put them on t...   \n",
       "\n",
       "                         selected_text sentiment     Time    Age      country  \\\n",
       "0  I`d have responded, if I were going   neutral  morning   0-20  Afghanistan   \n",
       "1                             Sooo SAD  negative     noon  21-30      Albania   \n",
       "2                          bullying me  negative    night  31-45      Algeria   \n",
       "3                       leave me alone  negative  morning  46-60      Andorra   \n",
       "4                        Sons of ****,  negative     noon  60-70       Angola   \n",
       "\n",
       "   Population       Area  Density  \n",
       "0    38928346   652860.0       60  \n",
       "1     2877797    27400.0      105  \n",
       "2    43851044  2381740.0       18  \n",
       "3       77265      470.0      164  \n",
       "4    32866272  1246700.0       26  "
      ]
     },
     "execution_count": 14,
     "metadata": {},
     "output_type": "execute_result"
    }
   ],
   "source": [
    "df_train.head()"
   ]
  },
  {
   "cell_type": "code",
   "execution_count": 15,
   "id": "744f50c4-7dfa-4a27-ab30-3398278837b8",
   "metadata": {},
   "outputs": [
    {
     "data": {
      "text/html": [
       "<div>\n",
       "<style scoped>\n",
       "    .dataframe tbody tr th:only-of-type {\n",
       "        vertical-align: middle;\n",
       "    }\n",
       "\n",
       "    .dataframe tbody tr th {\n",
       "        vertical-align: top;\n",
       "    }\n",
       "\n",
       "    .dataframe thead th {\n",
       "        text-align: right;\n",
       "    }\n",
       "</style>\n",
       "<table border=\"1\" class=\"dataframe\">\n",
       "  <thead>\n",
       "    <tr style=\"text-align: right;\">\n",
       "      <th></th>\n",
       "      <th>text_id</th>\n",
       "      <th>text</th>\n",
       "      <th>sentiment</th>\n",
       "      <th>Time</th>\n",
       "      <th>Age</th>\n",
       "      <th>country</th>\n",
       "      <th>Population</th>\n",
       "      <th>Area</th>\n",
       "      <th>Density</th>\n",
       "    </tr>\n",
       "  </thead>\n",
       "  <tbody>\n",
       "    <tr>\n",
       "      <th>0</th>\n",
       "      <td>f87dea47db</td>\n",
       "      <td>Last session of the day  http://twitpic.com/67ezh</td>\n",
       "      <td>neutral</td>\n",
       "      <td>morning</td>\n",
       "      <td>0-20</td>\n",
       "      <td>Afghanistan</td>\n",
       "      <td>38928346</td>\n",
       "      <td>652860.0</td>\n",
       "      <td>60</td>\n",
       "    </tr>\n",
       "    <tr>\n",
       "      <th>1</th>\n",
       "      <td>96d74cb729</td>\n",
       "      <td>Shanghai is also really exciting (precisely -...</td>\n",
       "      <td>positive</td>\n",
       "      <td>noon</td>\n",
       "      <td>21-30</td>\n",
       "      <td>Albania</td>\n",
       "      <td>2877797</td>\n",
       "      <td>27400.0</td>\n",
       "      <td>105</td>\n",
       "    </tr>\n",
       "    <tr>\n",
       "      <th>2</th>\n",
       "      <td>eee518ae67</td>\n",
       "      <td>Recession hit Veronique Branquinho, she has to...</td>\n",
       "      <td>negative</td>\n",
       "      <td>night</td>\n",
       "      <td>31-45</td>\n",
       "      <td>Algeria</td>\n",
       "      <td>43851044</td>\n",
       "      <td>2381740.0</td>\n",
       "      <td>18</td>\n",
       "    </tr>\n",
       "    <tr>\n",
       "      <th>3</th>\n",
       "      <td>01082688c6</td>\n",
       "      <td>happy bday!</td>\n",
       "      <td>positive</td>\n",
       "      <td>morning</td>\n",
       "      <td>46-60</td>\n",
       "      <td>Andorra</td>\n",
       "      <td>77265</td>\n",
       "      <td>470.0</td>\n",
       "      <td>164</td>\n",
       "    </tr>\n",
       "    <tr>\n",
       "      <th>4</th>\n",
       "      <td>33987a8ee5</td>\n",
       "      <td>http://twitpic.com/4w75p - I like it!!</td>\n",
       "      <td>positive</td>\n",
       "      <td>noon</td>\n",
       "      <td>60-70</td>\n",
       "      <td>Angola</td>\n",
       "      <td>32866272</td>\n",
       "      <td>1246700.0</td>\n",
       "      <td>26</td>\n",
       "    </tr>\n",
       "  </tbody>\n",
       "</table>\n",
       "</div>"
      ],
      "text/plain": [
       "      text_id                                               text sentiment  \\\n",
       "0  f87dea47db  Last session of the day  http://twitpic.com/67ezh   neutral   \n",
       "1  96d74cb729   Shanghai is also really exciting (precisely -...  positive   \n",
       "2  eee518ae67  Recession hit Veronique Branquinho, she has to...  negative   \n",
       "3  01082688c6                                        happy bday!  positive   \n",
       "4  33987a8ee5             http://twitpic.com/4w75p - I like it!!  positive   \n",
       "\n",
       "      Time    Age      country  Population       Area  Density  \n",
       "0  morning   0-20  Afghanistan    38928346   652860.0       60  \n",
       "1     noon  21-30      Albania     2877797    27400.0      105  \n",
       "2    night  31-45      Algeria    43851044  2381740.0       18  \n",
       "3  morning  46-60      Andorra       77265      470.0      164  \n",
       "4     noon  60-70       Angola    32866272  1246700.0       26  "
      ]
     },
     "execution_count": 15,
     "metadata": {},
     "output_type": "execute_result"
    }
   ],
   "source": [
    "df_test.head()"
   ]
  },
  {
   "cell_type": "code",
   "execution_count": 16,
   "id": "2cf18880-6d7a-496f-904d-e95350c37733",
   "metadata": {},
   "outputs": [
    {
     "data": {
      "text/plain": [
       "sentiment\n",
       "neutral     11117\n",
       "positive     8582\n",
       "negative     7781\n",
       "Name: count, dtype: int64"
      ]
     },
     "execution_count": 16,
     "metadata": {},
     "output_type": "execute_result"
    }
   ],
   "source": [
    "df_train[\"sentiment\"].value_counts()"
   ]
  },
  {
   "cell_type": "markdown",
   "id": "3a8aa645-433d-4c9e-b1f1-3d27572d540a",
   "metadata": {},
   "source": [
    "as we can notice dataset is very much balanced "
   ]
  },
  {
   "cell_type": "code",
   "execution_count": 17,
   "id": "f891f1f6-1799-4888-a05c-e39348d90c3d",
   "metadata": {},
   "outputs": [
    {
     "data": {
      "text/plain": [
       "<Axes: xlabel='Time', ylabel='count'>"
      ]
     },
     "execution_count": 17,
     "metadata": {},
     "output_type": "execute_result"
    },
    {
     "data": {
      "image/png": "[encoded data removed]",
      "text/plain": [
       "<Figure size 640x480 with 1 Axes>"
      ]
     },
     "metadata": {},
     "output_type": "display_data"
    }
   ],
   "source": [
    "sns.countplot(x = df_train[\"Time\"], hue = df_train[\"sentiment\"])"
   ]
  },
  {
   "cell_type": "code",
   "execution_count": 18,
   "id": "fb52005a-2e22-4ba5-841c-ab22bbda90f8",
   "metadata": {},
   "outputs": [
    {
     "data": {
      "text/plain": [
       "<Axes: xlabel='Age', ylabel='count'>"
      ]
     },
     "execution_count": 18,
     "metadata": {},
     "output_type": "execute_result"
    },
    {
     "data": {
      "image/png": "[encoded data removed]",
      "text/plain": [
       "<Figure size 640x480 with 1 Axes>"
      ]
     },
     "metadata": {},
     "output_type": "display_data"
    }
   ],
   "source": [
    "sns.countplot(x = df_train[\"Age\"], hue = df_train[\"sentiment\"])"
   ]
  },
  {
   "cell_type": "code",
   "execution_count": 19,
   "id": "52cb5140-6a3a-4d56-9dc9-dc3954dc0588",
   "metadata": {},
   "outputs": [],
   "source": [
    "df_train_1 = df_train[[\"text\",\"sentiment\"]]"
   ]
  },
  {
   "cell_type": "code",
   "execution_count": 20,
   "id": "d56cdc72-2f48-4656-90c7-f8bf691e8cd3",
   "metadata": {},
   "outputs": [],
   "source": [
    "# Create a set of stopwords\n",
    "stop_words = set(stopwords.words('english'))\n",
    "stemmer = LancasterStemmer()\n",
    "\n",
    "def clean_text_vectorized(df):\n",
    "    # Remove URLs\n",
    "    df['text'] = df['text'].str.replace(r'https?://\\S+', '', regex=True)\n",
    "    # Remove HTML tags\n",
    "    df['text'] = df['text'].str.replace(r'<.*?>', '', regex=True)\n",
    "    # Remove punctuation\n",
    "    df['text'] = df['text'].str.replace(f'[{string.punctuation}]', '', regex=True)\n",
    "    # Remove newlines (replace with space)\n",
    "    df['text'] = df['text'].str.replace(r'\\n', ' ', regex=True)\n",
    "    # Remove alphanumeric words\n",
    "    df['text'] = df['text'].str.replace(r'\\b\\w*\\d\\w*\\b', '', regex=True)\n",
    "    # Convert to lowercase\n",
    "    df['text'] = df['text'].str.lower()\n",
    "    # Remove remaining non-alphabetic characters\n",
    "    df['text'] = df['text'].str.replace(r'[^a-z\\s]', '', regex=True)\n",
    "    # Normalize repeated characters\n",
    "    df['text'] = df['text'].str.replace(r'(.)\\1+', r'\\1\\1', regex=True)\n",
    "\n",
    "    # Remove stopwords and stem words\n",
    "    def remove_stopwords_and_stem(text):\n",
    "        words = text.split()\n",
    "        words = [stemmer.stem(word) for word in words if word not in stop_words]\n",
    "        return ' '.join(words)\n",
    "\n",
    "    # Apply the function using .apply() on the cleaned text\n",
    "    vectorized_process_text = np.vectorize(remove_stopwords_and_stem)\n",
    "    df['text'] = vectorized_process_text(df['text'].values)\n",
    "\n",
    "# Convert columns to string\n",
    "df_train_1['text'] = df_train_1['text'].astype(str)\n",
    "df_test['text'] = df_test['text'].astype(str)\n",
    "\n",
    "# Clean the text in a vectorized way\n",
    "clean_text_vectorized(df_train_1)\n",
    "clean_text_vectorized(df_test)\n",
    "\n"
   ]
  },
  {
   "cell_type": "code",
   "execution_count": 21,
   "id": "9380363a-bb58-4d5a-84b1-337db6c7df3d",
   "metadata": {},
   "outputs": [
    {
     "data": {
      "text/html": [
       "<div>\n",
       "<style scoped>\n",
       "    .dataframe tbody tr th:only-of-type {\n",
       "        vertical-align: middle;\n",
       "    }\n",
       "\n",
       "    .dataframe tbody tr th {\n",
       "        vertical-align: top;\n",
       "    }\n",
       "\n",
       "    .dataframe thead th {\n",
       "        text-align: right;\n",
       "    }\n",
       "</style>\n",
       "<table border=\"1\" class=\"dataframe\">\n",
       "  <thead>\n",
       "    <tr style=\"text-align: right;\">\n",
       "      <th></th>\n",
       "      <th>text</th>\n",
       "      <th>sentiment</th>\n",
       "    </tr>\n",
       "  </thead>\n",
       "  <tbody>\n",
       "    <tr>\n",
       "      <th>0</th>\n",
       "      <td>id respond going</td>\n",
       "      <td>neutral</td>\n",
       "    </tr>\n",
       "    <tr>\n",
       "      <th>1</th>\n",
       "      <td>soo sad miss san diego</td>\n",
       "      <td>negative</td>\n",
       "    </tr>\n",
       "    <tr>\n",
       "      <th>2</th>\n",
       "      <td>boss bul</td>\n",
       "      <td>negative</td>\n",
       "    </tr>\n",
       "    <tr>\n",
       "      <th>3</th>\n",
       "      <td>interview leav alon</td>\n",
       "      <td>negative</td>\n",
       "    </tr>\n",
       "    <tr>\n",
       "      <th>4</th>\n",
       "      <td>son couldnt put releas already bought</td>\n",
       "      <td>negative</td>\n",
       "    </tr>\n",
       "  </tbody>\n",
       "</table>\n",
       "</div>"
      ],
      "text/plain": [
       "                                    text sentiment\n",
       "0                       id respond going   neutral\n",
       "1                 soo sad miss san diego  negative\n",
       "2                               boss bul  negative\n",
       "3                    interview leav alon  negative\n",
       "4  son couldnt put releas already bought  negative"
      ]
     },
     "execution_count": 21,
     "metadata": {},
     "output_type": "execute_result"
    }
   ],
   "source": [
    "df_train_1.head()\n"
   ]
  },
  {
   "cell_type": "code",
   "execution_count": 22,
   "id": "61a14f49-8b13-4dc0-8cc2-4f200ceb9483",
   "metadata": {},
   "outputs": [
    {
     "data": {
      "text/html": [
       "<div>\n",
       "<style scoped>\n",
       "    .dataframe tbody tr th:only-of-type {\n",
       "        vertical-align: middle;\n",
       "    }\n",
       "\n",
       "    .dataframe tbody tr th {\n",
       "        vertical-align: top;\n",
       "    }\n",
       "\n",
       "    .dataframe thead th {\n",
       "        text-align: right;\n",
       "    }\n",
       "</style>\n",
       "<table border=\"1\" class=\"dataframe\">\n",
       "  <thead>\n",
       "    <tr style=\"text-align: right;\">\n",
       "      <th></th>\n",
       "      <th>text_id</th>\n",
       "      <th>text</th>\n",
       "      <th>sentiment</th>\n",
       "      <th>Time</th>\n",
       "      <th>Age</th>\n",
       "      <th>country</th>\n",
       "      <th>Population</th>\n",
       "      <th>Area</th>\n",
       "      <th>Density</th>\n",
       "    </tr>\n",
       "  </thead>\n",
       "  <tbody>\n",
       "    <tr>\n",
       "      <th>0</th>\n",
       "      <td>f87dea47db</td>\n",
       "      <td>last sess day</td>\n",
       "      <td>neutral</td>\n",
       "      <td>morning</td>\n",
       "      <td>0-20</td>\n",
       "      <td>Afghanistan</td>\n",
       "      <td>38928346</td>\n",
       "      <td>652860.0</td>\n",
       "      <td>60</td>\n",
       "    </tr>\n",
       "    <tr>\n",
       "      <th>1</th>\n",
       "      <td>96d74cb729</td>\n",
       "      <td>shangha also real excit prec skyscrap gal good...</td>\n",
       "      <td>positive</td>\n",
       "      <td>noon</td>\n",
       "      <td>21-30</td>\n",
       "      <td>Albania</td>\n",
       "      <td>2877797</td>\n",
       "      <td>27400.0</td>\n",
       "      <td>105</td>\n",
       "    </tr>\n",
       "    <tr>\n",
       "      <th>2</th>\n",
       "      <td>eee518ae67</td>\n",
       "      <td>recess hit veron branquinho quit company sham</td>\n",
       "      <td>negative</td>\n",
       "      <td>night</td>\n",
       "      <td>31-45</td>\n",
       "      <td>Algeria</td>\n",
       "      <td>43851044</td>\n",
       "      <td>2381740.0</td>\n",
       "      <td>18</td>\n",
       "    </tr>\n",
       "    <tr>\n",
       "      <th>3</th>\n",
       "      <td>01082688c6</td>\n",
       "      <td>happy bday</td>\n",
       "      <td>positive</td>\n",
       "      <td>morning</td>\n",
       "      <td>46-60</td>\n",
       "      <td>Andorra</td>\n",
       "      <td>77265</td>\n",
       "      <td>470.0</td>\n",
       "      <td>164</td>\n",
       "    </tr>\n",
       "    <tr>\n",
       "      <th>4</th>\n",
       "      <td>33987a8ee5</td>\n",
       "      <td>lik</td>\n",
       "      <td>positive</td>\n",
       "      <td>noon</td>\n",
       "      <td>60-70</td>\n",
       "      <td>Angola</td>\n",
       "      <td>32866272</td>\n",
       "      <td>1246700.0</td>\n",
       "      <td>26</td>\n",
       "    </tr>\n",
       "  </tbody>\n",
       "</table>\n",
       "</div>"
      ],
      "text/plain": [
       "      text_id                                               text sentiment  \\\n",
       "0  f87dea47db                                      last sess day   neutral   \n",
       "1  96d74cb729  shangha also real excit prec skyscrap gal good...  positive   \n",
       "2  eee518ae67      recess hit veron branquinho quit company sham  negative   \n",
       "3  01082688c6                                         happy bday  positive   \n",
       "4  33987a8ee5                                                lik  positive   \n",
       "\n",
       "      Time    Age      country  Population       Area  Density  \n",
       "0  morning   0-20  Afghanistan    38928346   652860.0       60  \n",
       "1     noon  21-30      Albania     2877797    27400.0      105  \n",
       "2    night  31-45      Algeria    43851044  2381740.0       18  \n",
       "3  morning  46-60      Andorra       77265      470.0      164  \n",
       "4     noon  60-70       Angola    32866272  1246700.0       26  "
      ]
     },
     "execution_count": 22,
     "metadata": {},
     "output_type": "execute_result"
    }
   ],
   "source": [
    "df_test.head()"
   ]
  },
  {
   "cell_type": "code",
   "execution_count": 23,
   "id": "44268f4b-f71f-4cc6-a665-037e893d2c29",
   "metadata": {},
   "outputs": [],
   "source": [
    "X_train,X_test,y_train,y_test = df_train_1[\"text\"],df_test[\"text\"],df_train_1[\"sentiment\"],df_test[\"sentiment\"]"
   ]
  },
  {
   "cell_type": "code",
   "execution_count": 24,
   "id": "48a2425b-4ecf-465e-ab10-472983678f2a",
   "metadata": {},
   "outputs": [],
   "source": [
    "vectorizer = TfidfVectorizer(ngram_range = (1,2))\n",
    "XV_train = vectorizer.fit_transform(X_train)\n",
    "XV_test = vectorizer.transform(X_test)"
   ]
  },
  {
   "cell_type": "code",
   "execution_count": 25,
   "id": "32958cc6-be85-4efe-8be9-64b46a582a82",
   "metadata": {},
   "outputs": [],
   "source": [
    "Logic_regg = LogisticRegression().fit(XV_train,y_train)\n",
    "y_pred_logic  = Logic_regg.predict(XV_test)"
   ]
  },
  {
   "cell_type": "code",
   "execution_count": 26,
   "id": "2fec13cd-9023-4f8a-9e26-a3f5c0854df2",
   "metadata": {},
   "outputs": [
    {
     "name": "stdout",
     "output_type": "stream",
     "text": [
      "For Logisatic Regression accuracy = 0.7076966610073571, and F1 score = 0.7080565253748584\n"
     ]
    }
   ],
   "source": [
    "Logis_accuracy = metrics.accuracy_score(y_test,y_pred_logic)\n",
    "Logis_f1 = metrics.f1_score(y_test,y_pred_logic,average = 'weighted')\n",
    "print(\"For Logisatic Regression accuracy = {}, and F1 score = {}\".format(Logis_accuracy,Logis_f1))"
   ]
  },
  {
   "cell_type": "code",
   "execution_count": 27,
   "id": "46242ba8-eed8-4868-9c53-6654142bfbf7",
   "metadata": {},
   "outputs": [
    {
     "name": "stdout",
     "output_type": "stream",
     "text": [
      "              precision    recall  f1-score   support\n",
      "\n",
      "    negative       0.71      0.66      0.68      1001\n",
      "     neutral       0.66      0.71      0.69      1430\n",
      "    positive       0.77      0.75      0.76      1103\n",
      "\n",
      "    accuracy                           0.71      3534\n",
      "   macro avg       0.71      0.71      0.71      3534\n",
      "weighted avg       0.71      0.71      0.71      3534\n",
      "\n"
     ]
    }
   ],
   "source": [
    "print(metrics.classification_report(y_test,y_pred_logic))"
   ]
  },
  {
   "cell_type": "code",
   "execution_count": 28,
   "id": "64dacdd4-bad9-45ef-8677-53e176d5813f",
   "metadata": {},
   "outputs": [],
   "source": [
    "nb = naive_bayes.MultinomialNB()\n",
    "nb.fit(XV_train,y_train)\n",
    "y_pred_Naive_bayes  = nb.predict(XV_test)"
   ]
  },
  {
   "cell_type": "code",
   "execution_count": 29,
   "id": "69a65e49-6bad-4890-8114-b8f9d0627024",
   "metadata": {},
   "outputs": [
    {
     "name": "stdout",
     "output_type": "stream",
     "text": [
      "For Naive Bayes accuracy = 0.6179966044142614, and F1 score = 0.6030462783562727\n"
     ]
    }
   ],
   "source": [
    "Naive_bayes_accuracy = metrics.accuracy_score(y_test,y_pred_Naive_bayes)\n",
    "Naive_bayes_f1 = metrics.f1_score(y_test,y_pred_Naive_bayes,average = 'weighted')\n",
    "print(\"For Naive Bayes accuracy = {}, and F1 score = {}\".format(Naive_bayes_accuracy,Naive_bayes_f1))"
   ]
  },
  {
   "cell_type": "code",
   "execution_count": 30,
   "id": "5265fd2d-9535-461d-9b74-241975fa4647",
   "metadata": {},
   "outputs": [
    {
     "name": "stdout",
     "output_type": "stream",
     "text": [
      "              precision    recall  f1-score   support\n",
      "\n",
      "    negative       0.80      0.34      0.48      1001\n",
      "     neutral       0.52      0.87      0.66      1430\n",
      "    positive       0.81      0.54      0.65      1103\n",
      "\n",
      "    accuracy                           0.62      3534\n",
      "   macro avg       0.71      0.58      0.59      3534\n",
      "weighted avg       0.69      0.62      0.60      3534\n",
      "\n"
     ]
    }
   ],
   "source": [
    "print(metrics.classification_report(y_test,y_pred_Naive_bayes))"
   ]
  },
  {
   "cell_type": "code",
   "execution_count": 31,
   "id": "4ce77fe4-0c47-4bd1-9430-565d5edb8155",
   "metadata": {},
   "outputs": [],
   "source": [
    "dec_tree = DecisionTreeClassifier(random_state = 42)\n",
    "dec_tree.fit(XV_train,y_train)\n",
    "y_pred_Tree = dec_tree.predict(XV_test)"
   ]
  },
  {
   "cell_type": "code",
   "execution_count": 32,
   "id": "a335f70b-5f98-4a70-849b-0b7878903c6e",
   "metadata": {},
   "outputs": [
    {
     "name": "stdout",
     "output_type": "stream",
     "text": [
      "For Decision Tree accuracy = 0.6610073571024335, and F1 score = 0.6606166529335558\n"
     ]
    }
   ],
   "source": [
    "Decision_Tree_accuracy = metrics.accuracy_score(y_test,y_pred_Tree)\n",
    "Decision_Tree_f1 = metrics.f1_score(y_test,y_pred_Tree,average = 'weighted')\n",
    "print(\"For Decision Tree accuracy = {}, and F1 score = {}\".format(Decision_Tree_accuracy,Decision_Tree_f1))"
   ]
  },
  {
   "cell_type": "code",
   "execution_count": 33,
   "id": "34a70247-dbd4-4f91-bc72-30ff409456dc",
   "metadata": {},
   "outputs": [
    {
     "name": "stdout",
     "output_type": "stream",
     "text": [
      "              precision    recall  f1-score   support\n",
      "\n",
      "    negative       0.64      0.65      0.64      1001\n",
      "     neutral       0.65      0.62      0.64      1430\n",
      "    positive       0.70      0.72      0.71      1103\n",
      "\n",
      "    accuracy                           0.66      3534\n",
      "   macro avg       0.66      0.66      0.66      3534\n",
      "weighted avg       0.66      0.66      0.66      3534\n",
      "\n"
     ]
    }
   ],
   "source": [
    "print(metrics.classification_report(y_test,y_pred_Tree))"
   ]
  },
  {
   "cell_type": "code",
   "execution_count": null,
   "id": "3320d499-0902-48a4-85a3-fb1968818562",
   "metadata": {},
   "outputs": [
    {
     "name": "stdout",
     "output_type": "stream",
     "text": [
      "Training....\n",
      "Fitting 3 folds for each of 10 candidates, totalling 30 fits\n"
     ]
    }
   ],
   "source": [
    "param_dist = {\n",
    "    'n_estimators': [50, 100], \n",
    "    'max_depth': [10, 20, 30],   \n",
    "    'min_samples_leaf': [1, 2], \n",
    "    'min_samples_split': [2, 5],  \n",
    "    'max_features': [\"sqrt\"],\n",
    "    'max_samples': [0.5]          \n",
    "}\n",
    "\n",
    "rf = RandomForestClassifier(random_state=0)\n",
    "\n",
    "rf_random = RandomizedSearchCV(\n",
    "    rf, \n",
    "    param_distributions=param_dist, \n",
    "    n_iter=10, \n",
    "    scoring='f1', \n",
    "    refit=True, \n",
    "    n_jobs=-1, \n",
    "    verbose=1, \n",
    "    random_state=0,\n",
    "    cv=3 \n",
    ")\n",
    "\n",
    "print(\"Training....\")\n",
    "t0 = time.time()\n",
    "rf_random.fit(XV_train, y_train)\n",
    "train_time = time.time() - t0\n",
    "print(f\"Train time: {train_time:.3f} seconds\")\n",
    "\n",
    "print(\"Best parameters found: \", rf_random.best_params_)"
   ]
  },
  {
   "cell_type": "code",
   "execution_count": null,
   "id": "58688662-de12-4f7f-b6a9-41fcf73dc345",
   "metadata": {},
   "outputs": [],
   "source": [
    "rf = RandomForestClassifier(n_estimators = 100, min_samples_split = 5, min_samples_leaf = 1, max_samples =  0.5,\n",
    "max_features = 'sqrt', max_depth = 20,random_state = 42)\n",
    "rf.fit(XV_train,y_train)\n",
    "y_pred_rf = rf.predict(XV_test)\n"
   ]
  },
  {
   "cell_type": "code",
   "execution_count": null,
   "id": "90b5bd34-3f34-4a3c-8f5b-f04a37fb996d",
   "metadata": {},
   "outputs": [],
   "source": [
    "rf_accuracy = metrics.accuracy_score(y_test,y_pred_rf)\n",
    "rf_f1 = metrics.f1_score(y_test,y_pred_rf,average = 'weighted')\n",
    "print(\"For Random Forest accuracy = {}, and F1 score = {}\".format(rf_accuracy,rf_f1))"
   ]
  },
  {
   "cell_type": "code",
   "execution_count": null,
   "id": "c6892659-ef33-48e5-a8a7-4df6f78c71d3",
   "metadata": {},
   "outputs": [],
   "source": [
    "print(metrics.classification_report(y_test,y_pred_rf))"
   ]
  },
  {
   "cell_type": "code",
   "execution_count": null,
   "id": "f9e790bf-6698-4ac2-9b16-717b23b2d5f6",
   "metadata": {},
   "outputs": [],
   "source": [
    "print(\"Unique labels in y_train:\", np.unique(y_train))\n",
    "\n",
    "\n",
    "y_train_encoded = pd.factorize(y_train)[0]  \n",
    "print(\"Encoded labels:\", np.unique(y_train_encoded))\n",
    "\n",
    "cv_params = {\n",
    "    'max_depth': [2, 4, 6],\n",
    "    'min_child_weight': [1, 3],\n",
    "    'learning_rate': [0.01, 0.1],\n",
    "    'n_estimators': [5, 10],\n",
    "    'subsample': [0.7],\n",
    "    'colsample_bytree': [0.7]\n",
    "}\n",
    "\n",
    "xgb = XGBClassifier(\n",
    "    use_label_encoder=False,\n",
    "    random_state=0,\n",
    "    eval_metric='mlogloss'\n",
    ")\n",
    "\n",
    "xgb_cv = RandomizedSearchCV(\n",
    "    xgb,\n",
    "    param_distributions=cv_params,\n",
    "    n_iter=10,\n",
    "    scoring='f1',\n",
    "    refit=True,\n",
    "    n_jobs=-1,\n",
    "    verbose=1,\n",
    "    random_state=0,\n",
    "    cv=3\n",
    ")\n",
    "\n",
    "xgb_cv.fit(XV_train, y_train_encoded)\n",
    "\n",
    "print(\"Best parameters found: \", xgb_cv.best_params_)"
   ]
  },
  {
   "cell_type": "code",
   "execution_count": null,
   "id": "8974399b-d164-4832-87f1-b7df17444dbe",
   "metadata": {},
   "outputs": [],
   "source": [
    "xgb_opt = XGBClassifier(subsample = 0.7, n_estimators = 10, min_child_weight = 3, max_depth = 6, learning_rate = 0.01, colsample_bytree = 0.7)\n",
    "xgb_opt.fit(XV_train,y_train)\n",
    "y_pred_XGB = xgb_opt.predict(XV_test)"
   ]
  },
  {
   "cell_type": "code",
   "execution_count": null,
   "id": "c2350cda-8841-4b18-a3c7-9a73b541d784",
   "metadata": {},
   "outputs": [],
   "source": [
    "XGB_accuracy = metrics.accuracy_score(y_test,y_pred_XGB)\n",
    "XGB_f1 = metrics.f1_score(y_test,y_pred_XGB,average = 'weighted')\n",
    "print(\"For Random Forest accuracy = {}, and F1 score = {}\".format(XGB_accuracy,XGB_f1))"
   ]
  },
  {
   "cell_type": "code",
   "execution_count": null,
   "id": "f1419eaa-3995-46e5-9367-0a1489e66751",
   "metadata": {},
   "outputs": [],
   "source": [
    "print(metrics.classification_report(y_test,y_pred_XGB))"
   ]
  },
  {
   "cell_type": "code",
   "execution_count": null,
   "id": "203f90db-a115-4a7a-a18a-a5bf84d4d5a9",
   "metadata": {},
   "outputs": [],
   "source": [
    "table = pd.DataFrame({'Model': [\"Logistic Regression\",\"Naive Bayes\",\"Decision Tree\", \"Random Forest\",\"XGBoost model\"],\n",
    "                        'F1':  [Logis_accuracy,Naive_bayes_accuracy,Decision_Tree_accuracy,rf_accuracy,XGB_accuracy],\n",
    "                        'Accuracy': [Logis_f1,Naive_bayes_f1,Decision_Tree_f1 ,rf_f1,XGB_f1],\n",
    "                      })\n",
    "table"
   ]
  },
  {
   "cell_type": "markdown",
   "id": "c7e0a707-0c53-48cf-a466-f57c49618521",
   "metadata": {},
   "source": [
    "Conclusion : Logistic Regression model is giving usa Better result than rest of the models"
   ]
  }
 ],
 "metadata": {
  "kernelspec": {
   "display_name": "Python 3 (ipykernel)",
   "language": "python",
   "name": "python3"
  },
  "language_info": {
   "codemirror_mode": {
    "name": "ipython",
    "version": 3
   },
   "file_extension": ".py",
   "mimetype": "text/x-python",
   "name": "python",
   "nbconvert_exporter": "python",
   "pygments_lexer": "ipython3",
   "version": "3.9.19"
  }
 },
 "nbformat": 4,
 "nbformat_minor": 5
}
