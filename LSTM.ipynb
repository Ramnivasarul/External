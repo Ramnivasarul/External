{
 "cells": [
  {
   "cell_type": "code",
   "execution_count": 1,
   "id": "fbc82706-2a56-4b87-a867-1b2889664fa3",
   "metadata": {},
   "outputs": [],
   "source": [
    "import numpy as np\n",
    "import pandas as pd\n",
    "import matplotlib.pyplot as plt"
   ]
  },
  {
   "cell_type": "code",
   "execution_count": 17,
   "id": "836c9937-05dd-4084-860c-0d434ffcd5f0",
   "metadata": {},
   "outputs": [
    {
     "name": "stdout",
     "output_type": "stream",
     "text": [
      "[[  49.813286]\n",
      " [  50.316402]\n",
      " [  55.168217]\n",
      " ...\n",
      " [1196.97998 ]\n",
      " [1180.      ]\n",
      " [1191.890015]]\n"
     ]
    }
   ],
   "source": [
    "dataset_train = pd.read_csv(r\"C:\\Users\\ramni\\Downloads\\GOOG.csv\")\n",
    "training_set = dataset_train.iloc[:,1:2].values"
   ]
  },
  {
   "cell_type": "code",
   "execution_count": 15,
   "id": "769f1857-5415-4da8-9074-4f41271663b1",
   "metadata": {},
   "outputs": [
    {
     "data": {
      "text/plain": [
       "(3809, 1)"
      ]
     },
     "execution_count": 15,
     "metadata": {},
     "output_type": "execute_result"
    }
   ],
   "source": [
    "from sklearn.preprocessing import MinMaxScaler\n",
    "sc = MinMaxScaler(feature_range = (0,1))\n",
    "training_scaled = sc.fit_transform(training_set)\n",
    "training_scaled.shape"
   ]
  },
  {
   "cell_type": "code",
   "execution_count": 5,
   "id": "1effecdb-ff8b-42be-8cb4-171af6c63e41",
   "metadata": {},
   "outputs": [],
   "source": [
    "X_train = []\n",
    "y_train = []\n",
    "\n",
    "for i in range(60,1258):\n",
    "    X_train.append(training_scaled[i-60:i, 0])\n",
    "    y_train.append(training_scaled[i, 0])\n",
    "X_train, y_train = np.array(X_train), np.array(y_train)\n",
    "\n",
    "X_train = np.reshape(X_train, (X_train.shape[0], X_train.shape[1],1))    "
   ]
  },
  {
   "cell_type": "code",
   "execution_count": 7,
   "id": "33864717-e849-446f-9c4e-4deedea99e7a",
   "metadata": {},
   "outputs": [
    {
     "data": {
      "text/plain": [
       "(1198, 60, 1)"
      ]
     },
     "execution_count": 7,
     "metadata": {},
     "output_type": "execute_result"
    }
   ],
   "source": [
    "X_train.shape"
   ]
  },
  {
   "cell_type": "code",
   "execution_count": 6,
   "id": "51ba5901-642b-4dfb-ad2b-8d3693bf6331",
   "metadata": {},
   "outputs": [],
   "source": [
    "from keras.models import Sequential\n",
    "from keras.layers import Dense\n",
    "from keras.layers import LSTM\n",
    "from keras.layers import Dropout"
   ]
  },
  {
   "cell_type": "code",
   "execution_count": 19,
   "id": "7a9a65a6-716e-49c1-9eb9-5fc97e0a8658",
   "metadata": {},
   "outputs": [],
   "source": [
    "regressor = Sequential()\n",
    "\n",
    "regressor.add(LSTM(units = 50, return_sequences = True, input_shape = (X_train.shape[1],1)))\n",
    "regressor.add(Dropout(0.2))\n",
    "\n",
    "regressor.add(LSTM(units = 50, return_sequences = True))\n",
    "regressor.add(Dropout(0.2))\n",
    "\n",
    "regressor.add(LSTM(units = 50, return_sequences = True))\n",
    "regressor.add(Dropout(0.2))\n",
    "\n",
    "regressor.add(LSTM(units = 50))\n",
    "regressor.add(Dropout(0.2))\n",
    "\n",
    "regressor.add(Dense(units = 1))"
   ]
  },
  {
   "cell_type": "code",
   "execution_count": 20,
   "id": "bbcd0687-a978-4b8a-96fd-e1bccef9f470",
   "metadata": {},
   "outputs": [],
   "source": [
    "regressor.compile(optimizer= \"adam\", loss = \"mean_squared_error\")"
   ]
  },
  {
   "cell_type": "code",
   "execution_count": 21,
   "id": "d9b55f9a-9672-4def-b5b7-1dfddf7cc8c8",
   "metadata": {},
   "outputs": [
    {
     "name": "stdout",
     "output_type": "stream",
     "text": [
      "Epoch 1/100\n",
      "19/19 [==============================] - 19s 224ms/step - loss: 0.0044\n",
      "Epoch 2/100\n",
      "19/19 [==============================] - 4s 222ms/step - loss: 0.0010\n",
      "Epoch 3/100\n",
      "19/19 [==============================] - 4s 216ms/step - loss: 4.1758e-04\n",
      "Epoch 4/100\n",
      "19/19 [==============================] - 4s 231ms/step - loss: 3.5403e-04\n",
      "Epoch 5/100\n",
      "19/19 [==============================] - 4s 199ms/step - loss: 3.4692e-04\n",
      "Epoch 6/100\n",
      "19/19 [==============================] - 4s 202ms/step - loss: 3.4091e-04\n",
      "Epoch 7/100\n",
      "19/19 [==============================] - 4s 205ms/step - loss: 3.0672e-04\n",
      "Epoch 8/100\n",
      "19/19 [==============================] - 4s 206ms/step - loss: 2.8848e-04\n",
      "Epoch 9/100\n",
      "19/19 [==============================] - 4s 206ms/step - loss: 2.6431e-04\n",
      "Epoch 10/100\n",
      "19/19 [==============================] - 4s 204ms/step - loss: 2.3957e-04\n",
      "Epoch 11/100\n",
      "19/19 [==============================] - 4s 198ms/step - loss: 2.4707e-04\n",
      "Epoch 12/100\n",
      "19/19 [==============================] - 4s 206ms/step - loss: 2.3687e-04\n",
      "Epoch 13/100\n",
      "19/19 [==============================] - 4s 203ms/step - loss: 2.6097e-04\n",
      "Epoch 14/100\n",
      "19/19 [==============================] - 4s 201ms/step - loss: 2.3189e-04\n",
      "Epoch 15/100\n",
      "19/19 [==============================] - 4s 203ms/step - loss: 2.2684e-04\n",
      "Epoch 16/100\n",
      "19/19 [==============================] - 4s 200ms/step - loss: 2.1611e-04\n",
      "Epoch 17/100\n",
      "19/19 [==============================] - 4s 197ms/step - loss: 2.0793e-04\n",
      "Epoch 18/100\n",
      "19/19 [==============================] - 4s 203ms/step - loss: 2.0107e-04\n",
      "Epoch 19/100\n",
      "19/19 [==============================] - 3s 176ms/step - loss: 2.2847e-04\n",
      "Epoch 20/100\n",
      "19/19 [==============================] - 3s 184ms/step - loss: 2.1070e-04\n",
      "Epoch 21/100\n",
      "19/19 [==============================] - 4s 184ms/step - loss: 2.0442e-04\n",
      "Epoch 22/100\n",
      "19/19 [==============================] - 4s 190ms/step - loss: 2.0715e-04\n",
      "Epoch 23/100\n",
      "19/19 [==============================] - 4s 201ms/step - loss: 1.9430e-04\n",
      "Epoch 24/100\n",
      "19/19 [==============================] - 4s 195ms/step - loss: 2.0695e-04\n",
      "Epoch 25/100\n",
      "19/19 [==============================] - 4s 198ms/step - loss: 1.9711e-04\n",
      "Epoch 26/100\n",
      "19/19 [==============================] - 3s 181ms/step - loss: 1.9569e-04\n",
      "Epoch 27/100\n",
      "19/19 [==============================] - 3s 173ms/step - loss: 1.7577e-04\n",
      "Epoch 28/100\n",
      "19/19 [==============================] - 3s 161ms/step - loss: 1.6463e-04\n",
      "Epoch 29/100\n",
      "19/19 [==============================] - 3s 162ms/step - loss: 1.7473e-04\n",
      "Epoch 30/100\n",
      "19/19 [==============================] - 3s 149ms/step - loss: 1.8118e-04\n",
      "Epoch 31/100\n",
      "19/19 [==============================] - 3s 147ms/step - loss: 1.6997e-04\n",
      "Epoch 32/100\n",
      "19/19 [==============================] - 3s 146ms/step - loss: 1.8599e-04\n",
      "Epoch 33/100\n",
      "19/19 [==============================] - 3s 148ms/step - loss: 1.6227e-04\n",
      "Epoch 34/100\n",
      "19/19 [==============================] - 3s 152ms/step - loss: 1.7767e-04\n",
      "Epoch 35/100\n",
      "19/19 [==============================] - 3s 149ms/step - loss: 1.7284e-04\n",
      "Epoch 36/100\n",
      "19/19 [==============================] - 3s 147ms/step - loss: 1.6805e-04\n",
      "Epoch 37/100\n",
      "19/19 [==============================] - 3s 148ms/step - loss: 1.5657e-04\n",
      "Epoch 38/100\n",
      "19/19 [==============================] - 3s 151ms/step - loss: 1.4581e-04\n",
      "Epoch 39/100\n",
      "19/19 [==============================] - 3s 148ms/step - loss: 1.4819e-04\n",
      "Epoch 40/100\n",
      "19/19 [==============================] - 3s 153ms/step - loss: 1.7760e-04\n",
      "Epoch 41/100\n",
      "19/19 [==============================] - 3s 153ms/step - loss: 1.5210e-04\n",
      "Epoch 42/100\n",
      "19/19 [==============================] - 3s 148ms/step - loss: 1.6032e-04\n",
      "Epoch 43/100\n",
      "19/19 [==============================] - 3s 156ms/step - loss: 1.3887e-04\n",
      "Epoch 44/100\n",
      "19/19 [==============================] - 3s 152ms/step - loss: 1.4609e-04\n",
      "Epoch 45/100\n",
      "19/19 [==============================] - 3s 152ms/step - loss: 1.6171e-04\n",
      "Epoch 46/100\n",
      "19/19 [==============================] - 3s 151ms/step - loss: 1.4442e-04\n",
      "Epoch 47/100\n",
      "19/19 [==============================] - 3s 154ms/step - loss: 1.4364e-04\n",
      "Epoch 48/100\n",
      "19/19 [==============================] - 3s 154ms/step - loss: 1.2559e-04\n",
      "Epoch 49/100\n",
      "19/19 [==============================] - 3s 155ms/step - loss: 1.4770e-04\n",
      "Epoch 50/100\n",
      "19/19 [==============================] - 3s 147ms/step - loss: 1.1843e-04\n",
      "Epoch 51/100\n",
      "19/19 [==============================] - 3s 151ms/step - loss: 1.3327e-04\n",
      "Epoch 52/100\n",
      "19/19 [==============================] - 3s 155ms/step - loss: 1.2575e-04\n",
      "Epoch 53/100\n",
      "19/19 [==============================] - 3s 157ms/step - loss: 1.3374e-04\n",
      "Epoch 54/100\n",
      "19/19 [==============================] - 3s 152ms/step - loss: 1.3233e-04\n",
      "Epoch 55/100\n",
      "19/19 [==============================] - 3s 151ms/step - loss: 1.1785e-04\n",
      "Epoch 56/100\n",
      "19/19 [==============================] - 3s 151ms/step - loss: 1.1743e-04\n",
      "Epoch 57/100\n",
      "19/19 [==============================] - 3s 151ms/step - loss: 1.1601e-04\n",
      "Epoch 58/100\n",
      "19/19 [==============================] - 3s 153ms/step - loss: 1.2041e-04\n",
      "Epoch 59/100\n",
      "19/19 [==============================] - 3s 153ms/step - loss: 1.1517e-04\n",
      "Epoch 60/100\n",
      "19/19 [==============================] - 3s 154ms/step - loss: 1.1992e-04\n",
      "Epoch 61/100\n",
      "19/19 [==============================] - 3s 153ms/step - loss: 1.1962e-04\n",
      "Epoch 62/100\n",
      "19/19 [==============================] - 3s 158ms/step - loss: 1.1044e-04\n",
      "Epoch 63/100\n",
      "19/19 [==============================] - 3s 156ms/step - loss: 1.2445e-04\n",
      "Epoch 64/100\n",
      "19/19 [==============================] - 3s 155ms/step - loss: 1.0312e-04\n",
      "Epoch 65/100\n",
      "19/19 [==============================] - 3s 155ms/step - loss: 1.0421e-04\n",
      "Epoch 66/100\n",
      "19/19 [==============================] - 3s 154ms/step - loss: 9.8421e-05\n",
      "Epoch 67/100\n",
      "19/19 [==============================] - 3s 154ms/step - loss: 1.0547e-04\n",
      "Epoch 68/100\n",
      "19/19 [==============================] - 3s 153ms/step - loss: 9.7979e-05\n",
      "Epoch 69/100\n",
      "19/19 [==============================] - 3s 161ms/step - loss: 1.0897e-04\n",
      "Epoch 70/100\n",
      "19/19 [==============================] - 3s 156ms/step - loss: 1.2462e-04\n",
      "Epoch 71/100\n",
      "19/19 [==============================] - 3s 163ms/step - loss: 1.1643e-04\n",
      "Epoch 72/100\n",
      "19/19 [==============================] - 3s 164ms/step - loss: 1.1040e-04\n",
      "Epoch 73/100\n",
      "19/19 [==============================] - 3s 160ms/step - loss: 1.0275e-04\n",
      "Epoch 74/100\n",
      "19/19 [==============================] - 3s 165ms/step - loss: 1.0649e-04\n",
      "Epoch 75/100\n",
      "19/19 [==============================] - 3s 156ms/step - loss: 1.0767e-04\n",
      "Epoch 76/100\n",
      "19/19 [==============================] - 3s 159ms/step - loss: 1.0785e-04\n",
      "Epoch 77/100\n",
      "19/19 [==============================] - 3s 154ms/step - loss: 1.0227e-04\n",
      "Epoch 78/100\n",
      "19/19 [==============================] - 3s 155ms/step - loss: 1.0498e-04\n",
      "Epoch 79/100\n",
      "19/19 [==============================] - 3s 157ms/step - loss: 1.0552e-04\n",
      "Epoch 80/100\n",
      "19/19 [==============================] - 3s 157ms/step - loss: 1.0283e-04\n",
      "Epoch 81/100\n",
      "19/19 [==============================] - 3s 157ms/step - loss: 9.1743e-05\n",
      "Epoch 82/100\n",
      "19/19 [==============================] - 3s 157ms/step - loss: 9.3752e-05\n",
      "Epoch 83/100\n",
      "19/19 [==============================] - 3s 165ms/step - loss: 8.7164e-05\n",
      "Epoch 84/100\n",
      "19/19 [==============================] - 3s 155ms/step - loss: 9.5361e-05\n",
      "Epoch 85/100\n",
      "19/19 [==============================] - 3s 156ms/step - loss: 9.7059e-05\n",
      "Epoch 86/100\n",
      "19/19 [==============================] - 3s 158ms/step - loss: 1.0685e-04\n",
      "Epoch 87/100\n",
      "19/19 [==============================] - 3s 155ms/step - loss: 1.1689e-04\n",
      "Epoch 88/100\n",
      "19/19 [==============================] - 3s 166ms/step - loss: 9.0397e-05\n",
      "Epoch 89/100\n",
      "19/19 [==============================] - 3s 165ms/step - loss: 8.5388e-05\n",
      "Epoch 90/100\n",
      "19/19 [==============================] - 3s 159ms/step - loss: 9.2138e-05\n",
      "Epoch 91/100\n",
      "19/19 [==============================] - 3s 167ms/step - loss: 8.8266e-05\n",
      "Epoch 92/100\n",
      "19/19 [==============================] - 3s 162ms/step - loss: 8.7395e-05\n",
      "Epoch 93/100\n",
      "19/19 [==============================] - 3s 157ms/step - loss: 7.9434e-05\n",
      "Epoch 94/100\n",
      "19/19 [==============================] - 3s 159ms/step - loss: 8.3879e-05\n",
      "Epoch 95/100\n",
      "19/19 [==============================] - 3s 182ms/step - loss: 8.5735e-05\n",
      "Epoch 96/100\n",
      "19/19 [==============================] - 4s 190ms/step - loss: 9.1780e-05\n",
      "Epoch 97/100\n",
      "19/19 [==============================] - 3s 177ms/step - loss: 8.6701e-05\n",
      "Epoch 98/100\n",
      "19/19 [==============================] - 3s 180ms/step - loss: 1.0343e-04\n",
      "Epoch 99/100\n",
      "19/19 [==============================] - 3s 164ms/step - loss: 9.4551e-05\n",
      "Epoch 100/100\n",
      "19/19 [==============================] - 3s 172ms/step - loss: 9.3457e-05\n"
     ]
    },
    {
     "data": {
      "text/plain": [
       "<keras.callbacks.History at 0x23663fc0940>"
      ]
     },
     "execution_count": 21,
     "metadata": {},
     "output_type": "execute_result"
    }
   ],
   "source": [
    "regressor.fit(X_train,y_train, epochs = 100, batch_size = 64,workers = 4,  use_multiprocessing=True)              "
   ]
  },
  {
   "cell_type": "code",
   "execution_count": 22,
   "id": "0f0b3e39-45d6-403a-b029-977f59e77bfe",
   "metadata": {},
   "outputs": [],
   "source": [
    "X_test = []\n",
    "y_test = []\n",
    "\n",
    "for i in range(1259,1500):\n",
    "    X_test.append(training_scaled[i-60:i, 0])\n",
    "    y_test.append(training_scaled[i, 0])\n",
    "X_test, y_test = np.array(X_train), np.array(y_train)\n",
    "\n",
    "X_test = np.reshape(X_test, (X_test.shape[0], X_test.shape[1],1))    "
   ]
  },
  {
   "cell_type": "code",
   "execution_count": 25,
   "id": "f9f889c4-a94e-4349-bfe1-8e09d2a484bd",
   "metadata": {},
   "outputs": [
    {
     "name": "stdout",
     "output_type": "stream",
     "text": [
      "38/38 [==============================] - 1s 31ms/step\n"
     ]
    }
   ],
   "source": [
    "y_pred=regressor.predict(X_test)"
   ]
  },
  {
   "cell_type": "code",
   "execution_count": 29,
   "id": "6242c3b2-c01f-4fa2-84c2-7e4f2e7442b9",
   "metadata": {},
   "outputs": [
    {
     "data": {
      "image/png": "[encoded data removed]",
      "text/plain": [
       "<Figure size 640x480 with 1 Axes>"
      ]
     },
     "metadata": {},
     "output_type": "display_data"
    }
   ],
   "source": [
    "plt.plot(y_test)\n",
    "plt.plot(y_pred)\n",
    "plt.legend([\"y_test\",\"y_pred\"])\n",
    "plt.show()"
   ]
  }
 ],
 "metadata": {
  "kernelspec": {
   "display_name": "Python 3 (ipykernel)",
   "language": "python",
   "name": "python3"
  },
  "language_info": {
   "codemirror_mode": {
    "name": "ipython",
    "version": 3
   },
   "file_extension": ".py",
   "mimetype": "text/x-python",
   "name": "python",
   "nbconvert_exporter": "python",
   "pygments_lexer": "ipython3",
   "version": "3.12.7"
  }
 },
 "nbformat": 4,
 "nbformat_minor": 5
}
